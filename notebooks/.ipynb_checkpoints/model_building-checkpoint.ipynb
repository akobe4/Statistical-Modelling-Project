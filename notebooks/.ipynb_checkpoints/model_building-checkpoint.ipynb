{
 "cells": [
  {
   "cell_type": "markdown",
   "metadata": {},
   "source": [
    "Build a regression model."
   ]
  },
  {
   "cell_type": "code",
   "execution_count": 14,
   "metadata": {},
   "outputs": [],
   "source": [
    "import pandas as pd\n",
    "import seaborn as sns\n",
    "import matplotlib.pyplot as plt\n",
    "import scipy\n",
    "import statsmodels.api as sm"
   ]
  },
  {
   "cell_type": "code",
   "execution_count": 11,
   "metadata": {},
   "outputs": [],
   "source": [
    "#loading data \n",
    "data = read_csv(r'C:\\Users\\akobe\\OneDrive\\Desktop\\Lighthouse\\Project2\\Statistical-Modelling-Project\\data\\allData.csv')"
   ]
  },
  {
   "cell_type": "code",
   "execution_count": 30,
   "metadata": {},
   "outputs": [
    {
     "data": {
      "text/html": [
       "<div>\n",
       "<style scoped>\n",
       "    .dataframe tbody tr th:only-of-type {\n",
       "        vertical-align: middle;\n",
       "    }\n",
       "\n",
       "    .dataframe tbody tr th {\n",
       "        vertical-align: top;\n",
       "    }\n",
       "\n",
       "    .dataframe thead th {\n",
       "        text-align: right;\n",
       "    }\n",
       "</style>\n",
       "<table border=\"1\" class=\"dataframe\">\n",
       "  <thead>\n",
       "    <tr style=\"text-align: right;\">\n",
       "      <th></th>\n",
       "      <th>Unnamed: 0</th>\n",
       "      <th>businessName</th>\n",
       "      <th>businessCategory</th>\n",
       "      <th>rating</th>\n",
       "      <th>noOfReviews</th>\n",
       "      <th>distance</th>\n",
       "      <th>latlon</th>\n",
       "      <th>stationName</th>\n",
       "      <th>numberOfBikes</th>\n",
       "    </tr>\n",
       "  </thead>\n",
       "  <tbody>\n",
       "    <tr>\n",
       "      <th>0</th>\n",
       "      <td>0</td>\n",
       "      <td>The Wilson Street Pantry</td>\n",
       "      <td>cafes</td>\n",
       "      <td>4.5</td>\n",
       "      <td>86</td>\n",
       "      <td>48.999836</td>\n",
       "      <td>55.858167,-4.245483</td>\n",
       "      <td>Merchant Square - ELECTRIC</td>\n",
       "      <td>2</td>\n",
       "    </tr>\n",
       "  </tbody>\n",
       "</table>\n",
       "</div>"
      ],
      "text/plain": [
       "   Unnamed: 0              businessName businessCategory  rating  noOfReviews  \\\n",
       "0           0  The Wilson Street Pantry            cafes     4.5           86   \n",
       "\n",
       "    distance               latlon                 stationName  numberOfBikes  \n",
       "0  48.999836  55.858167,-4.245483  Merchant Square - ELECTRIC              2  "
      ]
     },
     "execution_count": 30,
     "metadata": {},
     "output_type": "execute_result"
    }
   ],
   "source": [
    "data.head(1)"
   ]
  },
  {
   "cell_type": "code",
   "execution_count": 32,
   "metadata": {},
   "outputs": [
    {
     "data": {
      "text/plain": [
       "24"
      ]
     },
     "execution_count": 32,
     "metadata": {},
     "output_type": "execute_result"
    }
   ],
   "source": [
    "data['numberOfBikes'].max()"
   ]
  },
  {
   "cell_type": "code",
   "execution_count": 13,
   "metadata": {},
   "outputs": [
    {
     "data": {
      "text/html": [
       "<div>\n",
       "<style scoped>\n",
       "    .dataframe tbody tr th:only-of-type {\n",
       "        vertical-align: middle;\n",
       "    }\n",
       "\n",
       "    .dataframe tbody tr th {\n",
       "        vertical-align: top;\n",
       "    }\n",
       "\n",
       "    .dataframe thead th {\n",
       "        text-align: right;\n",
       "    }\n",
       "</style>\n",
       "<table border=\"1\" class=\"dataframe\">\n",
       "  <thead>\n",
       "    <tr style=\"text-align: right;\">\n",
       "      <th></th>\n",
       "      <th>Unnamed: 0</th>\n",
       "      <th>rating</th>\n",
       "      <th>noOfReviews</th>\n",
       "      <th>distance</th>\n",
       "      <th>numberOfBikes</th>\n",
       "    </tr>\n",
       "  </thead>\n",
       "  <tbody>\n",
       "    <tr>\n",
       "      <th>Unnamed: 0</th>\n",
       "      <td>1.000000</td>\n",
       "      <td>-0.059156</td>\n",
       "      <td>-0.105755</td>\n",
       "      <td>0.038376</td>\n",
       "      <td>0.090667</td>\n",
       "    </tr>\n",
       "    <tr>\n",
       "      <th>rating</th>\n",
       "      <td>-0.059156</td>\n",
       "      <td>1.000000</td>\n",
       "      <td>0.209485</td>\n",
       "      <td>-0.050660</td>\n",
       "      <td>-0.025708</td>\n",
       "    </tr>\n",
       "    <tr>\n",
       "      <th>noOfReviews</th>\n",
       "      <td>-0.105755</td>\n",
       "      <td>0.209485</td>\n",
       "      <td>1.000000</td>\n",
       "      <td>-0.009293</td>\n",
       "      <td>-0.243879</td>\n",
       "    </tr>\n",
       "    <tr>\n",
       "      <th>distance</th>\n",
       "      <td>0.038376</td>\n",
       "      <td>-0.050660</td>\n",
       "      <td>-0.009293</td>\n",
       "      <td>1.000000</td>\n",
       "      <td>0.101743</td>\n",
       "    </tr>\n",
       "    <tr>\n",
       "      <th>numberOfBikes</th>\n",
       "      <td>0.090667</td>\n",
       "      <td>-0.025708</td>\n",
       "      <td>-0.243879</td>\n",
       "      <td>0.101743</td>\n",
       "      <td>1.000000</td>\n",
       "    </tr>\n",
       "  </tbody>\n",
       "</table>\n",
       "</div>"
      ],
      "text/plain": [
       "               Unnamed: 0    rating  noOfReviews  distance  numberOfBikes\n",
       "Unnamed: 0       1.000000 -0.059156    -0.105755  0.038376       0.090667\n",
       "rating          -0.059156  1.000000     0.209485 -0.050660      -0.025708\n",
       "noOfReviews     -0.105755  0.209485     1.000000 -0.009293      -0.243879\n",
       "distance         0.038376 -0.050660    -0.009293  1.000000       0.101743\n",
       "numberOfBikes    0.090667 -0.025708    -0.243879  0.101743       1.000000"
      ]
     },
     "execution_count": 13,
     "metadata": {},
     "output_type": "execute_result"
    }
   ],
   "source": [
    "data.corr()"
   ]
  },
  {
   "cell_type": "code",
   "execution_count": 16,
   "metadata": {},
   "outputs": [
    {
     "data": {
      "text/html": [
       "<div>\n",
       "<style scoped>\n",
       "    .dataframe tbody tr th:only-of-type {\n",
       "        vertical-align: middle;\n",
       "    }\n",
       "\n",
       "    .dataframe tbody tr th {\n",
       "        vertical-align: top;\n",
       "    }\n",
       "\n",
       "    .dataframe thead th {\n",
       "        text-align: right;\n",
       "    }\n",
       "</style>\n",
       "<table border=\"1\" class=\"dataframe\">\n",
       "  <thead>\n",
       "    <tr style=\"text-align: right;\">\n",
       "      <th></th>\n",
       "      <th>const</th>\n",
       "      <th>rating</th>\n",
       "      <th>noOfReviews</th>\n",
       "      <th>distance</th>\n",
       "    </tr>\n",
       "  </thead>\n",
       "  <tbody>\n",
       "    <tr>\n",
       "      <th>0</th>\n",
       "      <td>1.0</td>\n",
       "      <td>4.5</td>\n",
       "      <td>86</td>\n",
       "      <td>48.999836</td>\n",
       "    </tr>\n",
       "  </tbody>\n",
       "</table>\n",
       "</div>"
      ],
      "text/plain": [
       "   const  rating  noOfReviews   distance\n",
       "0    1.0     4.5           86  48.999836"
      ]
     },
     "execution_count": 16,
     "metadata": {},
     "output_type": "execute_result"
    }
   ],
   "source": [
    "y = data['numberOfBikes']\n",
    "x = data[['rating', 'noOfReviews', 'distance']]\n",
    "x = sm.add_constant(x)\n",
    "x.head(1)"
   ]
  },
  {
   "cell_type": "code",
   "execution_count": 18,
   "metadata": {},
   "outputs": [],
   "source": [
    "model = sm.OLS(y,x) #instantiate\n",
    "results = model.fit()#fit the model "
   ]
  },
  {
   "cell_type": "markdown",
   "metadata": {},
   "source": [
    "Provide model output and an interpretation of the results. "
   ]
  },
  {
   "cell_type": "code",
   "execution_count": 19,
   "metadata": {},
   "outputs": [
    {
     "name": "stdout",
     "output_type": "stream",
     "text": [
      "                            OLS Regression Results                            \n",
      "==============================================================================\n",
      "Dep. Variable:          numberOfBikes   R-squared:                       0.070\n",
      "Model:                            OLS   Adj. R-squared:                  0.069\n",
      "Method:                 Least Squares   F-statistic:                     48.47\n",
      "Date:                Tue, 31 Jan 2023   Prob (F-statistic):           3.42e-30\n",
      "Time:                        21:15:03   Log-Likelihood:                -5873.1\n",
      "No. Observations:                1926   AIC:                         1.175e+04\n",
      "Df Residuals:                    1922   BIC:                         1.178e+04\n",
      "Df Model:                           3                                         \n",
      "Covariance Type:            nonrobust                                         \n",
      "===============================================================================\n",
      "                  coef    std err          t      P>|t|      [0.025      0.975]\n",
      "-------------------------------------------------------------------------------\n",
      "const           5.0234      0.819      6.137      0.000       3.418       6.629\n",
      "rating          0.2637      0.187      1.407      0.159      -0.104       0.631\n",
      "noOfReviews    -0.0291      0.003    -11.096      0.000      -0.034      -0.024\n",
      "distance        0.0016      0.000      4.588      0.000       0.001       0.002\n",
      "==============================================================================\n",
      "Omnibus:                      490.429   Durbin-Watson:                   0.142\n",
      "Prob(Omnibus):                  0.000   Jarque-Bera (JB):             1168.176\n",
      "Skew:                           1.392   Prob(JB):                    2.16e-254\n",
      "Kurtosis:                       5.609   Cond. No.                     5.24e+03\n",
      "==============================================================================\n",
      "\n",
      "Notes:\n",
      "[1] Standard Errors assume that the covariance matrix of the errors is correctly specified.\n",
      "[2] The condition number is large, 5.24e+03. This might indicate that there are\n",
      "strong multicollinearity or other numerical problems.\n"
     ]
    }
   ],
   "source": [
    "#model results \n",
    "print(results.summary())"
   ]
  },
  {
   "cell_type": "markdown",
   "metadata": {},
   "source": [
    "#### Adjusted R-square = 0.069 > 0.05\n",
    "p-value for rating > 0.05, therefore should be removed from the model "
   ]
  },
  {
   "cell_type": "code",
   "execution_count": 22,
   "metadata": {},
   "outputs": [
    {
     "data": {
      "text/html": [
       "<div>\n",
       "<style scoped>\n",
       "    .dataframe tbody tr th:only-of-type {\n",
       "        vertical-align: middle;\n",
       "    }\n",
       "\n",
       "    .dataframe tbody tr th {\n",
       "        vertical-align: top;\n",
       "    }\n",
       "\n",
       "    .dataframe thead th {\n",
       "        text-align: right;\n",
       "    }\n",
       "</style>\n",
       "<table border=\"1\" class=\"dataframe\">\n",
       "  <thead>\n",
       "    <tr style=\"text-align: right;\">\n",
       "      <th></th>\n",
       "      <th>const</th>\n",
       "      <th>noOfReviews</th>\n",
       "      <th>distance</th>\n",
       "    </tr>\n",
       "  </thead>\n",
       "  <tbody>\n",
       "    <tr>\n",
       "      <th>0</th>\n",
       "      <td>1.0</td>\n",
       "      <td>86</td>\n",
       "      <td>48.999836</td>\n",
       "    </tr>\n",
       "  </tbody>\n",
       "</table>\n",
       "</div>"
      ],
      "text/plain": [
       "   const  noOfReviews   distance\n",
       "0    1.0           86  48.999836"
      ]
     },
     "execution_count": 22,
     "metadata": {},
     "output_type": "execute_result"
    }
   ],
   "source": [
    "X = data[['noOfReviews', 'distance']]\n",
    "X = sm.add_constant(X)\n",
    "X.head(1)"
   ]
  },
  {
   "cell_type": "code",
   "execution_count": 23,
   "metadata": {},
   "outputs": [
    {
     "name": "stdout",
     "output_type": "stream",
     "text": [
      "                            OLS Regression Results                            \n",
      "==============================================================================\n",
      "Dep. Variable:          numberOfBikes   R-squared:                       0.069\n",
      "Model:                            OLS   Adj. R-squared:                  0.068\n",
      "Method:                 Least Squares   F-statistic:                     71.67\n",
      "Date:                Tue, 31 Jan 2023   Prob (F-statistic):           9.50e-31\n",
      "Time:                        21:25:16   Log-Likelihood:                -5874.0\n",
      "No. Observations:                1926   AIC:                         1.175e+04\n",
      "Df Residuals:                    1923   BIC:                         1.177e+04\n",
      "Df Model:                           2                                         \n",
      "Covariance Type:            nonrobust                                         \n",
      "===============================================================================\n",
      "                  coef    std err          t      P>|t|      [0.025      0.975]\n",
      "-------------------------------------------------------------------------------\n",
      "const           6.1035      0.285     21.453      0.000       5.546       6.662\n",
      "noOfReviews    -0.0283      0.003    -11.044      0.000      -0.033      -0.023\n",
      "distance        0.0016      0.000      4.522      0.000       0.001       0.002\n",
      "==============================================================================\n",
      "Omnibus:                      491.720   Durbin-Watson:                   0.136\n",
      "Prob(Omnibus):                  0.000   Jarque-Bera (JB):             1174.202\n",
      "Skew:                           1.394   Prob(JB):                    1.06e-255\n",
      "Kurtosis:                       5.618   Cond. No.                     1.78e+03\n",
      "==============================================================================\n",
      "\n",
      "Notes:\n",
      "[1] Standard Errors assume that the covariance matrix of the errors is correctly specified.\n",
      "[2] The condition number is large, 1.78e+03. This might indicate that there are\n",
      "strong multicollinearity or other numerical problems.\n"
     ]
    }
   ],
   "source": [
    "model = sm.OLS(y,X) #instantiate\n",
    "results = model.fit()#fit the model \n",
    "print(results.summary())"
   ]
  },
  {
   "cell_type": "markdown",
   "metadata": {},
   "source": [
    "##### p-values are all <0.05 therefore we should keep #of reviews and distance (from station) in the model. Adjusted r-square has changed slightly between the two models. \n",
    "\n",
    "Would need to take this information with a grain of salt as there is likely issues with mulitcollinearity as condition # is large "
   ]
  },
  {
   "cell_type": "code",
   "execution_count": 26,
   "metadata": {},
   "outputs": [],
   "source": [
    "#residuals \n",
    "residuals = results.resid"
   ]
  },
  {
   "cell_type": "code",
   "execution_count": 27,
   "metadata": {},
   "outputs": [
    {
     "data": {
      "text/plain": [
       "<AxesSubplot:ylabel='Count'>"
      ]
     },
     "execution_count": 27,
     "metadata": {},
     "output_type": "execute_result"
    },
    {
     "data": {
      "image/png": "[encoded data removed]",
      "text/plain": [
       "<Figure size 640x480 with 1 Axes>"
      ]
     },
     "metadata": {},
     "output_type": "display_data"
    }
   ],
   "source": [
    "sns.histplot(residuals)"
   ]
  },
  {
   "cell_type": "code",
   "execution_count": 28,
   "metadata": {},
   "outputs": [
    {
     "data": {
      "image/png": "[encoded data removed]",
      "text/plain": [
       "<Figure size 640x480 with 1 Axes>"
      ]
     },
     "metadata": {},
     "output_type": "display_data"
    }
   ],
   "source": [
    "sm.qqplot(residuals)\n",
    "plt.show()"
   ]
  },
  {
   "cell_type": "code",
   "execution_count": 29,
   "metadata": {},
   "outputs": [
    {
     "data": {
      "text/plain": [
       "ShapiroResult(statistic=0.8987216353416443, pvalue=7.008760170503114e-34)"
      ]
     },
     "execution_count": 29,
     "metadata": {},
     "output_type": "execute_result"
    }
   ],
   "source": [
    "scipy.stats.shapiro(residuals)"
   ]
  },
  {
   "cell_type": "markdown",
   "metadata": {},
   "source": [
    "# Stretch"
   ]
  },
  {
   "cell_type": "markdown",
   "metadata": {},
   "source": [
    "How can you turn the regression model into a classification model?"
   ]
  },
  {
   "cell_type": "markdown",
   "metadata": {},
   "source": [
    "#### you could turn it into a claassification model by picking a range for number of bikes. For example: # of bikes ranges from 0-24. One category could be 0-11 bikes the other could be 12-24 bikes. "
   ]
  }
 ],
 "metadata": {
  "kernelspec": {
   "display_name": "Python 3 (ipykernel)",
   "language": "python",
   "name": "python3"
  },
  "language_info": {
   "codemirror_mode": {
    "name": "ipython",
    "version": 3
   },
   "file_extension": ".py",
   "mimetype": "text/x-python",
   "name": "python",
   "nbconvert_exporter": "python",
   "pygments_lexer": "ipython3",
   "version": "3.9.13"
  }
 },
 "nbformat": 4,
 "nbformat_minor": 4
}
