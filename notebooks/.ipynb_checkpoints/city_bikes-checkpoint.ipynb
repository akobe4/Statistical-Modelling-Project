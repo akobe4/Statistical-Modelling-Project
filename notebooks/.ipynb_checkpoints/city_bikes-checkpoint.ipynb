{
 "cells": [
  {
   "cell_type": "markdown",
   "metadata": {},
   "source": [
    "# CityBikes"
   ]
  },
  {
   "cell_type": "markdown",
   "metadata": {},
   "source": [
    "Send a request to CityBikes for the city of your choice. "
   ]
  },
  {
   "cell_type": "code",
   "execution_count": 1,
   "metadata": {},
   "outputs": [],
   "source": [
    "import requests\n",
    "import json\n",
    "import pandas as pd"
   ]
  },
  {
   "cell_type": "markdown",
   "metadata": {},
   "source": [
    "Parse through the response to get the details you want for the bike stations in that city (latitude, longitude, number of bikes). "
   ]
  },
  {
   "cell_type": "code",
   "execution_count": 2,
   "metadata": {},
   "outputs": [],
   "source": [
    "url = 'https://api.citybik.es/v2/networks'"
   ]
  },
  {
   "cell_type": "code",
   "execution_count": 3,
   "metadata": {},
   "outputs": [],
   "source": [
    "params = {'fields': 'id,name,href'}"
   ]
  },
  {
   "cell_type": "code",
   "execution_count": 4,
   "metadata": {},
   "outputs": [],
   "source": [
    "response  = requests.get(url=url, params=params)"
   ]
  },
  {
   "cell_type": "code",
   "execution_count": 5,
   "metadata": {},
   "outputs": [],
   "source": [
    "glasgow = '/nextbike-glasgow'\n",
    "response = requests.get(url=url + glasgow).json()"
   ]
  },
  {
   "cell_type": "code",
   "execution_count": 7,
   "metadata": {},
   "outputs": [],
   "source": [
    "allData = response \n",
    "#allData"
   ]
  },
  {
   "cell_type": "markdown",
   "metadata": {},
   "source": [
    "Put your parsed results into a DataFrame."
   ]
  },
  {
   "cell_type": "code",
   "execution_count": 85,
   "metadata": {},
   "outputs": [],
   "source": [
    "#lat = allData['network']['stations'][0]['latitude']\n",
    "#lat"
   ]
  },
  {
   "cell_type": "code",
   "execution_count": 56,
   "metadata": {},
   "outputs": [],
   "source": [
    "#long = allData['network']['stations'][0]['longitude']\n",
    "#long"
   ]
  },
  {
   "cell_type": "code",
   "execution_count": 60,
   "metadata": {},
   "outputs": [],
   "source": [
    "#numBikes = allData['network']['stations'][0]['free_bikes']\n",
    "#numBikes"
   ]
  },
  {
   "cell_type": "code",
   "execution_count": 12,
   "metadata": {},
   "outputs": [
    {
     "data": {
      "text/plain": [
       "{'stationName': 'TRG OF-KOLODVORSKA UL.',\n",
       " 'latitude': 46.057421,\n",
       " 'longitude': 14.510265,\n",
       " 'numberOfBikes': 12}"
      ]
     },
     "execution_count": 12,
     "metadata": {},
     "output_type": "execute_result"
    }
   ],
   "source": [
    "#details = {'stationName' : allData['network']['stations'][0]['name'],\n",
    "#           'latitude' : allData['network']['stations'][0]['latitude'],\n",
    "#           'longitude' : allData['network']['stations'][0]['longitude'],\n",
    "#            'numberOfBikes' : allData['network']['stations'][0]['free_bikes']}\n",
    "#details"
   ]
  },
  {
   "cell_type": "code",
   "execution_count": 20,
   "metadata": {},
   "outputs": [],
   "source": [
    "#create empty lists to add data to \n",
    "name = [] #to identify the station easily \n",
    "latitude = []\n",
    "longitude = []\n",
    "numberOfBikes = []"
   ]
  },
  {
   "cell_type": "code",
   "execution_count": 21,
   "metadata": {},
   "outputs": [],
   "source": [
    "#pull data from allData into separate lists for each variable -\n",
    "for stations in allData['network']['stations']:\n",
    "    name.append(stations['name'])\n",
    "    latitude.append(stations['latitude'])\n",
    "    longitude.append(stations['longitude'])\n",
    "    numberOfBikes.append(stations['free_bikes'])"
   ]
  },
  {
   "cell_type": "code",
   "execution_count": 22,
   "metadata": {},
   "outputs": [],
   "source": [
    "#create a dataframe \n",
    "bikeData = pd.DataFrame(list(zip(name, latitude, longitude, numberOfBikes)), columns=['Name', 'Latitude', 'Longitude', 'numberOfBikes'])"
   ]
  },
  {
   "cell_type": "code",
   "execution_count": 23,
   "metadata": {},
   "outputs": [
    {
     "data": {
      "text/html": [
       "<div>\n",
       "<style scoped>\n",
       "    .dataframe tbody tr th:only-of-type {\n",
       "        vertical-align: middle;\n",
       "    }\n",
       "\n",
       "    .dataframe tbody tr th {\n",
       "        vertical-align: top;\n",
       "    }\n",
       "\n",
       "    .dataframe thead th {\n",
       "        text-align: right;\n",
       "    }\n",
       "</style>\n",
       "<table border=\"1\" class=\"dataframe\">\n",
       "  <thead>\n",
       "    <tr style=\"text-align: right;\">\n",
       "      <th></th>\n",
       "      <th>Name</th>\n",
       "      <th>Latitude</th>\n",
       "      <th>Longitude</th>\n",
       "      <th>numberOfBikes</th>\n",
       "    </tr>\n",
       "  </thead>\n",
       "  <tbody>\n",
       "    <tr>\n",
       "      <th>0</th>\n",
       "      <td>Merchant Square - ELECTRIC</td>\n",
       "      <td>55.858167</td>\n",
       "      <td>-4.245483</td>\n",
       "      <td>2</td>\n",
       "    </tr>\n",
       "    <tr>\n",
       "      <th>1</th>\n",
       "      <td>Botanic Gardens - ELECTRIC</td>\n",
       "      <td>55.878278</td>\n",
       "      <td>-4.288487</td>\n",
       "      <td>2</td>\n",
       "    </tr>\n",
       "    <tr>\n",
       "      <th>2</th>\n",
       "      <td>Mitchell Library</td>\n",
       "      <td>55.864788</td>\n",
       "      <td>-4.271852</td>\n",
       "      <td>0</td>\n",
       "    </tr>\n",
       "    <tr>\n",
       "      <th>3</th>\n",
       "      <td>University of Strathclyde (North)</td>\n",
       "      <td>55.862983</td>\n",
       "      <td>-4.241000</td>\n",
       "      <td>0</td>\n",
       "    </tr>\n",
       "    <tr>\n",
       "      <th>4</th>\n",
       "      <td>Bridge Street Subway - ELECTRIC</td>\n",
       "      <td>55.852500</td>\n",
       "      <td>-4.258850</td>\n",
       "      <td>9</td>\n",
       "    </tr>\n",
       "    <tr>\n",
       "      <th>...</th>\n",
       "      <td>...</td>\n",
       "      <td>...</td>\n",
       "      <td>...</td>\n",
       "      <td>...</td>\n",
       "    </tr>\n",
       "    <tr>\n",
       "      <th>97</th>\n",
       "      <td>Anderston Railway Station</td>\n",
       "      <td>55.859996</td>\n",
       "      <td>-4.270163</td>\n",
       "      <td>0</td>\n",
       "    </tr>\n",
       "    <tr>\n",
       "      <th>98</th>\n",
       "      <td>Maryland Drive</td>\n",
       "      <td>55.846552</td>\n",
       "      <td>-4.332797</td>\n",
       "      <td>2</td>\n",
       "    </tr>\n",
       "    <tr>\n",
       "      <th>99</th>\n",
       "      <td>Trongate</td>\n",
       "      <td>55.855961</td>\n",
       "      <td>-4.244671</td>\n",
       "      <td>5</td>\n",
       "    </tr>\n",
       "    <tr>\n",
       "      <th>100</th>\n",
       "      <td>Glasgow Cathedral - ELECTRIC</td>\n",
       "      <td>55.862973</td>\n",
       "      <td>-4.237745</td>\n",
       "      <td>1</td>\n",
       "    </tr>\n",
       "    <tr>\n",
       "      <th>101</th>\n",
       "      <td>St Rollox</td>\n",
       "      <td>55.878152</td>\n",
       "      <td>-4.242439</td>\n",
       "      <td>0</td>\n",
       "    </tr>\n",
       "  </tbody>\n",
       "</table>\n",
       "<p>102 rows × 4 columns</p>\n",
       "</div>"
      ],
      "text/plain": [
       "                                  Name   Latitude  Longitude  numberOfBikes\n",
       "0           Merchant Square - ELECTRIC  55.858167  -4.245483              2\n",
       "1           Botanic Gardens - ELECTRIC  55.878278  -4.288487              2\n",
       "2                     Mitchell Library  55.864788  -4.271852              0\n",
       "3    University of Strathclyde (North)  55.862983  -4.241000              0\n",
       "4      Bridge Street Subway - ELECTRIC  55.852500  -4.258850              9\n",
       "..                                 ...        ...        ...            ...\n",
       "97           Anderston Railway Station  55.859996  -4.270163              0\n",
       "98                      Maryland Drive  55.846552  -4.332797              2\n",
       "99                            Trongate  55.855961  -4.244671              5\n",
       "100       Glasgow Cathedral - ELECTRIC  55.862973  -4.237745              1\n",
       "101                          St Rollox  55.878152  -4.242439              0\n",
       "\n",
       "[102 rows x 4 columns]"
      ]
     },
     "execution_count": 23,
     "metadata": {},
     "output_type": "execute_result"
    }
   ],
   "source": [
    "#testing everything worked \n",
    "bikeData"
   ]
  },
  {
   "cell_type": "code",
   "execution_count": 12,
   "metadata": {},
   "outputs": [],
   "source": [
    "#saving dataframe \n",
    "bikeData.to_csv('nextBikeGlas.csv')"
   ]
  },
  {
   "cell_type": "code",
   "execution_count": 33,
   "metadata": {},
   "outputs": [],
   "source": [
    "testing = bikeData"
   ]
  },
  {
   "cell_type": "code",
   "execution_count": 35,
   "metadata": {},
   "outputs": [],
   "source": [
    "testing['latlon'] = testing['Latitude'].astype(str) + ',' + testing['Longitude'].astype(str)\n",
    "testing\n",
    "testing.to_csv('testing.csv')"
   ]
  }
 ],
 "metadata": {
  "kernelspec": {
   "display_name": "lighthouse",
   "language": "python",
   "name": "lighthouse"
  },
  "language_info": {
   "codemirror_mode": {
    "name": "ipython",
    "version": 3
   },
   "file_extension": ".py",
   "mimetype": "text/x-python",
   "name": "python",
   "nbconvert_exporter": "python",
   "pygments_lexer": "ipython3",
   "version": "3.9.13"
  }
 },
 "nbformat": 4,
 "nbformat_minor": 4
}
